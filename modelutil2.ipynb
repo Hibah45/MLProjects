{
 "cells": [
  {
   "cell_type": "code",
   "execution_count": null,
   "metadata": {},
   "outputs": [],
   "source": [
    "from __future__ import absolute_import\n",
    "\n",
    "from classes.dataset.Dataset import *\n",
    "\n",
    "class ModelUtils:\n",
    "\n",
    "    @staticmethod\n",
    "    def prepare_data_for_training(data_input_folder, validation_split, augment_training_data):\n",
    "\n",
    "        dataset = Dataset(data_input_folder)\n",
    "        training_path, validation_path = dataset.split_datasets(validation_split)\n",
    "        dataset.preprocess_data(training_path, validation_path, augment_training_data)\n",
    "\n",
    "        return training_path, validation_path"
   ]
  }
 ],
 "metadata": {
  "kernelspec": {
   "display_name": "Python 3",
   "language": "python",
   "name": "python3"
  },
  "language_info": {
   "codemirror_mode": {
    "name": "ipython",
    "version": 3
   },
   "file_extension": ".py",
   "mimetype": "text/x-python",
   "name": "python",
   "nbconvert_exporter": "python",
   "pygments_lexer": "ipython3",
   "version": "3.6.4"
  }
 },
 "nbformat": 4,
 "nbformat_minor": 2
}
