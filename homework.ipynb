{
 "cells": [
  {
   "cell_type": "code",
   "execution_count": 1,
   "metadata": {},
   "outputs": [
    {
     "data": {
      "text/plain": [
       "[1, 2, 3, 4, 5]"
      ]
     },
     "execution_count": 1,
     "metadata": {},
     "output_type": "execute_result"
    }
   ],
   "source": [
    "l1=[1,2,3,4,5]\n",
    "l1"
   ]
  },
  {
   "cell_type": "code",
   "execution_count": 3,
   "metadata": {},
   "outputs": [
    {
     "data": {
      "text/plain": [
       "[(1, 'Abc', 'cse'),\n",
       " (2, 'xyz', 'ece'),\n",
       " (3, 'Hibah', 'cse'),\n",
       " (4, 'uvw', 'mech'),\n",
       " (5, 'efg', 'eee')]"
      ]
     },
     "execution_count": 3,
     "metadata": {},
     "output_type": "execute_result"
    }
   ],
   "source": [
    "# 5 emplyees with ids,names,dept\n",
    "l1=[(1,\"Abc\",\"cse\"),(2,\"xyz\",\"ece\"),(3,\"Hibah\",\"cse\"),(4,\"uvw\",\"mech\"),(5,\"efg\",\"eee\")]\n",
    "l1"
   ]
  },
  {
   "cell_type": "code",
   "execution_count": 8,
   "metadata": {},
   "outputs": [
    {
     "data": {
      "text/plain": [
       "[(1, 'Abc', 'cse'),\n",
       " (2, 'xyz', 'ece'),\n",
       " (3, 'Hibah', 'cse'),\n",
       " (4, 'uvw', 'mech'),\n",
       " (5, 'efg', 'eee'),\n",
       " (6, 'a', 'eie'),\n",
       " [6, 'a', 'eie'],\n",
       " (6, 'a', 'eie')]"
      ]
     },
     "execution_count": 8,
     "metadata": {},
     "output_type": "execute_result"
    }
   ],
   "source": [
    "l1.append((6,\"a\",\"eie\")) #append\n",
    "l1"
   ]
  },
  {
   "cell_type": "code",
   "execution_count": 9,
   "metadata": {},
   "outputs": [
    {
     "data": {
      "text/plain": [
       "[(1, 'Abc', 'cse'),\n",
       " (2, 'xyz', 'ece'),\n",
       " (3, 'Hibah', 'cse'),\n",
       " (4, 'uvw', 'mech'),\n",
       " (5, 'efg', 'eee'),\n",
       " (6, 'a', 'eie'),\n",
       " [6, 'a', 'eie']]"
      ]
     },
     "execution_count": 9,
     "metadata": {},
     "output_type": "execute_result"
    }
   ],
   "source": [
    "l1.pop()\n",
    "l1"
   ]
  },
  {
   "cell_type": "code",
   "execution_count": 10,
   "metadata": {},
   "outputs": [
    {
     "data": {
      "text/plain": [
       "[(1, 'Abc', 'cse'),\n",
       " (2, 'xyz', 'ece'),\n",
       " (3, 'Hibah', 'cse'),\n",
       " (4, 'uvw', 'mech'),\n",
       " (5, 'efg', 'eee'),\n",
       " (6, 'a', 'eie')]"
      ]
     },
     "execution_count": 10,
     "metadata": {},
     "output_type": "execute_result"
    }
   ],
   "source": [
    "l1.remove([6,\"a\",\"eie\"])\n",
    "l1"
   ]
  },
  {
   "cell_type": "code",
   "execution_count": 12,
   "metadata": {},
   "outputs": [
    {
     "data": {
      "text/plain": [
       "[(1, 'Abc', 'cse'),\n",
       " (2, 'xyz', 'ece'),\n",
       " (3, 'Hibah', 'cse'),\n",
       " (4, 'uvw', 'mech'),\n",
       " (5, 'efg', 'eee'),\n",
       " (6, 'a', 'eie'),\n",
       " (7, 'b', 'cse'),\n",
       " (8, 'c', 'ece')]"
      ]
     },
     "execution_count": 12,
     "metadata": {},
     "output_type": "execute_result"
    }
   ],
   "source": [
    "l1.extend([(7,\"b\",\"cse\"),(8,\"c\",\"ece\")])\n",
    "l1"
   ]
  },
  {
   "cell_type": "code",
   "execution_count": 17,
   "metadata": {},
   "outputs": [
    {
     "name": "stdout",
     "output_type": "stream",
     "text": [
      "ID = [1, 2, 3, 4, 5]\n",
      "Name= ['a', 'b', 'c', 'd', 'e'] \n",
      "dept= ['cse', 'ece', 'eee', 'mech', 'eie']\n",
      "\n"
     ]
    }
   ],
   "source": [
    "def emp():\n",
    "    ids=[1,2,3,4,5]\n",
    "    names=[\"a\",\"b\",\"c\",\"d\",\"e\"]\n",
    "    dept=[\"cse\",\"ece\",\"eee\",\"mech\",\"eie\"]\n",
    "    print(\"ID = {}\\nName= {} \\ndept= {}\\n\".format(ids,names,dept))\n",
    "\n",
    "emp()"
   ]
  },
  {
   "cell_type": "code",
   "execution_count": 29,
   "metadata": {},
   "outputs": [
    {
     "data": {
      "text/plain": [
       "[1500, 2500, 5000, 10000, 18000]"
      ]
     },
     "execution_count": 29,
     "metadata": {},
     "output_type": "execute_result"
    }
   ],
   "source": [
    "l2 = [2500,10000,1500,18000,5000]\n",
    "l2.sort()\n",
    "l2"
   ]
  },
  {
   "cell_type": "code",
   "execution_count": 41,
   "metadata": {},
   "outputs": [
    {
     "data": {
      "text/plain": [
       "((1, 'Abc', 'cse'), (3, 'Hibah', 'cse'), (5, 'efg', 'eee'))"
      ]
     },
     "execution_count": 41,
     "metadata": {},
     "output_type": "execute_result"
    }
   ],
   "source": [
    "t1=((1,\"Abc\",\"cse\"),(2,\"xyz\",\"ece\"),(3,\"Hibah\",\"cse\"),(4,\"uvw\",\"mech\"),(5,\"efg\",\"eee\"))\n",
    "t1[::2]"
   ]
  },
  {
   "cell_type": "code",
   "execution_count": 10,
   "metadata": {},
   "outputs": [
    {
     "data": {
      "text/plain": [
       "((2, 'xyz', 'ece'), (4, 'uvw', 'mech'))"
      ]
     },
     "execution_count": 10,
     "metadata": {},
     "output_type": "execute_result"
    }
   ],
   "source": [
    "t1[1:][::2] "
   ]
  },
  {
   "cell_type": "code",
   "execution_count": 21,
   "metadata": {},
   "outputs": [
    {
     "name": "stdout",
     "output_type": "stream",
     "text": [
      "enter a number:5\n",
      "5\n",
      "enter a number:4\n",
      "enter a number:2\n",
      "enter a number:3\n",
      "3\n",
      "enter a number:1\n",
      "1\n"
     ]
    }
   ],
   "source": [
    "for i in range(5):  #continuation of programing constructs\n",
    "    n=input(\"enter a number:\")\n",
    "    n=int(n)\n",
    "    if(n%2!=0):\n",
    "        print(n)\n",
    "        continue\n",
    "    \n",
    "    "
   ]
  },
  {
   "cell_type": "code",
   "execution_count": 24,
   "metadata": {},
   "outputs": [
    {
     "name": "stdout",
     "output_type": "stream",
     "text": [
      "pass block\n",
      "pass block\n"
     ]
    }
   ],
   "source": [
    "n=2\n",
    "for i in range(n):\n",
    "    if i==3:\n",
    "     pass\n",
    "    print(\"pass block\")"
   ]
  },
  {
   "cell_type": "code",
   "execution_count": 25,
   "metadata": {},
   "outputs": [
    {
     "name": "stdout",
     "output_type": "stream",
     "text": [
      "0\n",
      "1\n",
      "2\n",
      "3\n",
      "4\n"
     ]
    }
   ],
   "source": [
    "#working wid while loop\n",
    "i=0\n",
    "while(i<5):\n",
    "    print(i)\n",
    "    i=i+1"
   ]
  },
  {
   "cell_type": "code",
   "execution_count": 37,
   "metadata": {},
   "outputs": [
    {
     "name": "stdout",
     "output_type": "stream",
     "text": [
      "0 is less than 5\n",
      "1 is less than 5\n",
      "2 is less than 5\n",
      "3 is less than 5\n",
      "4 is less than 5\n",
      "5 is not less than 5\n"
     ]
    }
   ],
   "source": [
    "count=0\n",
    "while (count<5):\n",
    "        print(count,\"is less than 5\")\n",
    "        count=count+1\n",
    "else:\n",
    "        print(count,\"is not less than 5\")"
   ]
  },
  {
   "cell_type": "markdown",
   "metadata": {},
   "source": [
    "# Homework day 2\n"
   ]
  },
  {
   "cell_type": "code",
   "execution_count": 13,
   "metadata": {},
   "outputs": [
    {
     "data": {
      "text/plain": [
       "[11, 13, 15]"
      ]
     },
     "execution_count": 13,
     "metadata": {},
     "output_type": "execute_result"
    }
   ],
   "source": [
    "#1 \n",
    "list2=[20,11,40,13,6,15] #odd indices\n",
    "list2[1:][::2]"
   ]
  },
  {
   "cell_type": "code",
   "execution_count": 8,
   "metadata": {},
   "outputs": [
    {
     "data": {
      "text/plain": [
       "1"
      ]
     },
     "execution_count": 8,
     "metadata": {},
     "output_type": "execute_result"
    }
   ],
   "source": [
    "list2.index(2)"
   ]
  },
  {
   "cell_type": "code",
   "execution_count": 14,
   "metadata": {},
   "outputs": [
    {
     "data": {
      "text/plain": [
       "[20, 40, 6]"
      ]
     },
     "execution_count": 14,
     "metadata": {},
     "output_type": "execute_result"
    }
   ],
   "source": [
    "list2[::2] #even indices"
   ]
  },
  {
   "cell_type": "code",
   "execution_count": 18,
   "metadata": {},
   "outputs": [
    {
     "data": {
      "text/plain": [
       "{'Abc': [1, 'cse'],\n",
       " 'Hibah': [3, 'mech'],\n",
       " 'Piya': [5, 'eie'],\n",
       " 'Xyz': [2, 'ece'],\n",
       " 'uvw': [4, 'cse']}"
      ]
     },
     "execution_count": 18,
     "metadata": {},
     "output_type": "execute_result"
    }
   ],
   "source": [
    "emp={\"Abc\":[1,\"cse\"],\"Xyz\":[2,\"ece\"],\"Hibah\":[3,\"mech\"],\"uvw\":[4,\"cse\"],\"Piya\":[5,\"eie\"]}\n",
    "emp"
   ]
  },
  {
   "cell_type": "code",
   "execution_count": 33,
   "metadata": {},
   "outputs": [
    {
     "data": {
      "text/plain": [
       "dict_keys(['Abc', 'Xyz', 'Hibah', 'uvw', 'Piya'])"
      ]
     },
     "execution_count": 33,
     "metadata": {},
     "output_type": "execute_result"
    }
   ],
   "source": [
    "emp.keys()"
   ]
  },
  {
   "cell_type": "code",
   "execution_count": 34,
   "metadata": {},
   "outputs": [
    {
     "data": {
      "text/plain": [
       "dict_values([{'id': 1, 'dept': 'cse'}, {'id': 2, 'dept': 'ece'}, {'id': 3, 'dept': 'mech'}, {'id': 4, 'dept': 'cse'}, {'id': 5, 'dept': 'eie'}])"
      ]
     },
     "execution_count": 34,
     "metadata": {},
     "output_type": "execute_result"
    }
   ],
   "source": [
    "emp.values()"
   ]
  },
  {
   "cell_type": "code",
   "execution_count": 61,
   "metadata": {},
   "outputs": [
    {
     "data": {
      "text/plain": [
       "[{'dept': 'cse', 'id': 1, 'name': 'Abc'},\n",
       " {'dept': 'ece', 'id': 2, 'name': 'Xyz'},\n",
       " {'dept': 'mech', 'id': 3, 'name': 'Hibah'},\n",
       " {'dept': 'cse', 'id': 4, 'name': 'uvw'},\n",
       " {'dept': 'eie', 'id': 5, 'name': 'Piya'}]"
      ]
     },
     "execution_count": 61,
     "metadata": {},
     "output_type": "execute_result"
    }
   ],
   "source": [
    "#2 print 5 employees\n",
    "emp=[{\"name\":\"Abc\",\"id\":1,\"dept\":\"cse\"},{\"name\":\"Xyz\",'id': 2,\"dept\":\"ece\"},{\"name\":\"Hibah\",\"id\":3,\"dept\":\"mech\"},{\"name\":\"uvw\",\"id\":4,\"dept\":\"cse\"},{\"name\":\"Piya\",\"id\":5,\"dept\":\"eie\"}]\n",
    "emp"
   ]
  },
  {
   "cell_type": "code",
   "execution_count": 63,
   "metadata": {},
   "outputs": [
    {
     "name": "stdout",
     "output_type": "stream",
     "text": [
      "cse\n",
      "ece\n",
      "mech\n",
      "cse\n",
      "eie\n"
     ]
    }
   ],
   "source": [
    "emp=[{\"name\":\"Abc\",\"id\":1,\"dept\":\"cse\"},{\"name\":\"Xyz\",'id': 2,\"dept\":\"ece\"},{\"name\":\"Hibah\",\"id\":3,\"dept\":\"mech\"},{\"name\":\"uvw\",\"id\":4,\"dept\":\"cse\"},{\"name\":\"Piya\",\"id\":5,\"dept\":\"eie\"}]\n",
    "for i in emp:\n",
    "    department=i['dept']  #printing departments\n",
    "    print(department)"
   ]
  },
  {
   "cell_type": "code",
   "execution_count": 91,
   "metadata": {},
   "outputs": [],
   "source": [
    "emp1=[{\"name\":\"Abc\",\"id\":1,\"sal\":10000},{\"name\":\"Xyz\",'id': 2,\"sal\":1500},{\"name\":\"Hibah\",\"id\":3,\"sal\":25000},{\"name\":\"uvw\",\"id\":4,\"sal\":6000},{\"name\":\"Piya\",\"id\":5,\"sal\":1500}]\n",
    "for i in emp1:\n",
    "    del i['sal'] #deleting salary of all employees"
   ]
  },
  {
   "cell_type": "code",
   "execution_count": 92,
   "metadata": {},
   "outputs": [
    {
     "data": {
      "text/plain": [
       "[{'id': 1, 'name': 'Abc'},\n",
       " {'id': 2, 'name': 'Xyz'},\n",
       " {'id': 3, 'name': 'Hibah'},\n",
       " {'id': 4, 'name': 'uvw'},\n",
       " {'id': 5, 'name': 'Piya'}]"
      ]
     },
     "execution_count": 92,
     "metadata": {},
     "output_type": "execute_result"
    }
   ],
   "source": [
    "emp1 #without sal"
   ]
  },
  {
   "cell_type": "code",
   "execution_count": 86,
   "metadata": {},
   "outputs": [
    {
     "data": {
      "text/plain": [
       "{'cgpa': 8.71,\n",
       " 'course': 'cse',\n",
       " 'name': 'hibah',\n",
       " 'placement status': 'Yes',\n",
       " 'rollno': 71}"
      ]
     },
     "execution_count": 86,
     "metadata": {},
     "output_type": "execute_result"
    }
   ],
   "source": [
    "student={\"name\":\"hibah\",\"rollno\":71,\"course\":\"cse\",\"cgpa\":8.71,\"placement status\":\"Yes\"}\n",
    "student"
   ]
  },
  {
   "cell_type": "code",
   "execution_count": 87,
   "metadata": {},
   "outputs": [
    {
     "data": {
      "text/plain": [
       "dict_keys(['name', 'rollno', 'course', 'cgpa', 'placement status'])"
      ]
     },
     "execution_count": 87,
     "metadata": {},
     "output_type": "execute_result"
    }
   ],
   "source": [
    "student.keys()\n"
   ]
  },
  {
   "cell_type": "code",
   "execution_count": 88,
   "metadata": {},
   "outputs": [
    {
     "data": {
      "text/plain": [
       "dict_values(['hibah', 71, 'cse', 8.71, 'Yes'])"
      ]
     },
     "execution_count": 88,
     "metadata": {},
     "output_type": "execute_result"
    }
   ],
   "source": [
    "student.values()"
   ]
  },
  {
   "cell_type": "code",
   "execution_count": 89,
   "metadata": {},
   "outputs": [
    {
     "data": {
      "text/plain": [
       "dict_items([('name', 'hibah'), ('rollno', 71), ('course', 'cse'), ('cgpa', 8.71), ('placement status', 'Yes')])"
      ]
     },
     "execution_count": 89,
     "metadata": {},
     "output_type": "execute_result"
    }
   ],
   "source": [
    "student.items()"
   ]
  },
  {
   "cell_type": "code",
   "execution_count": 90,
   "metadata": {},
   "outputs": [
    {
     "data": {
      "text/plain": [
       "'cse'"
      ]
     },
     "execution_count": 90,
     "metadata": {},
     "output_type": "execute_result"
    }
   ],
   "source": [
    "student.get('course')"
   ]
  },
  {
   "cell_type": "code",
   "execution_count": 118,
   "metadata": {},
   "outputs": [],
   "source": [
    "#delete 1st salary of employee\n",
    "emp3=[{\"name\":\"Abc\",\"id\":1,\"sal\":10000},{\"name\":\"Xyz\",'id': 2,\"sal\":1500},{\"name\":\"Hibah\",\"id\":3,\"sal\":25000},{\"name\":\"uvw\",\"id\":4,\"sal\":6000},{\"name\":\"Piya\",\"id\":5,\"sal\":1500}]\n",
    "for i in emp3:\n",
    "    if (i['sal'])==10000:\n",
    "        del i['sal']"
   ]
  },
  {
   "cell_type": "code",
   "execution_count": 101,
   "metadata": {},
   "outputs": [
    {
     "data": {
      "text/plain": [
       "[{'id': 1, 'name': 'Abc'},\n",
       " {'id': 2, 'name': 'Xyz', 'sal': 1500},\n",
       " {'id': 3, 'name': 'Hibah', 'sal': 25000},\n",
       " {'id': 4, 'name': 'uvw', 'sal': 6000},\n",
       " {'id': 5, 'name': 'Piya', 'sal': 1500}]"
      ]
     },
     "execution_count": 101,
     "metadata": {},
     "output_type": "execute_result"
    }
   ],
   "source": [
    "emp3"
   ]
  },
  {
   "cell_type": "code",
   "execution_count": 120,
   "metadata": {},
   "outputs": [
    {
     "ename": "NameError",
     "evalue": "name 'remove' is not defined",
     "output_type": "error",
     "traceback": [
      "\u001b[1;31m---------------------------------------------------------------------------\u001b[0m",
      "\u001b[1;31mNameError\u001b[0m                                 Traceback (most recent call last)",
      "\u001b[1;32m<ipython-input-120-6d87fc831ef0>\u001b[0m in \u001b[0;36m<module>\u001b[1;34m()\u001b[0m\n\u001b[1;32m----> 1\u001b[1;33m \u001b[1;32mdel\u001b[0m \u001b[0memp3\u001b[0m\u001b[1;33m[\u001b[0m\u001b[1;34m'sal'\u001b[0m\u001b[1;33m(\u001b[0m\u001b[0mremove\u001b[0m\u001b[1;33m(\u001b[0m\u001b[1;34m'id'\u001b[0m\u001b[1;33m)\u001b[0m\u001b[1;33m)\u001b[0m\u001b[1;33m]\u001b[0m\u001b[1;33m\u001b[0m\u001b[0m\n\u001b[0m",
      "\u001b[1;31mNameError\u001b[0m: name 'remove' is not defined"
     ]
    }
   ],
   "source": [
    "del emp3['sal'(remove('id'))]"
   ]
  },
  {
   "cell_type": "code",
   "execution_count": 144,
   "metadata": {},
   "outputs": [
    {
     "name": "stdout",
     "output_type": "stream",
     "text": [
      "Enter sales:400000\n",
      "Enter sales:500000\n",
      "Enter sales:7000000\n",
      "stop sales in region1\n"
     ]
    }
   ],
   "source": [
    "r1=input(\"Enter sales:\")\n",
    "r1=int(r1)\n",
    "r2=input(\"Enter sales:\")\n",
    "r2=int(r2)\n",
    "r3=int(input(\"Enter sales:\"))\n",
    "if(r1<500000):\n",
    "    print(\"stop sales in region1\")\n",
    "elif (r2 < 500000):\n",
    "    print(\"stop sales in region2\")\n",
    "else (r3 < 500000):\n",
    "    print(\"stop sales in region 3\")"
   ]
  },
  {
   "cell_type": "code",
   "execution_count": 2,
   "metadata": {},
   "outputs": [
    {
     "name": "stdout",
     "output_type": "stream",
     "text": [
      "Enter lower range: 2\n",
      "Enter upper range: 48\n",
      "2\n",
      "3\n",
      "5\n",
      "7\n",
      "11\n",
      "13\n",
      "17\n",
      "19\n",
      "23\n",
      "29\n",
      "31\n",
      "37\n",
      "41\n",
      "43\n",
      "47\n"
     ]
    }
   ],
   "source": [
    "lower = int(input(\"Enter lower range: \"))\n",
    "upper = int(input(\"Enter upper range: \"))\n",
    " \n",
    "for num in range(lower,upper + 1):\n",
    "   # prime numbers are greater than 1\n",
    "   if num > 1:\n",
    "       for i in range(2,num):  \n",
    "           if (num % i) == 0:\n",
    "               break\n",
    "       else:\n",
    "           print(num)"
   ]
  },
  {
   "cell_type": "code",
   "execution_count": 4,
   "metadata": {},
   "outputs": [
    {
     "data": {
      "text/plain": [
       "8000"
      ]
     },
     "execution_count": 4,
     "metadata": {},
     "output_type": "execute_result"
    }
   ],
   "source": [
    "sales=(1000,3000,2500,8000,7500)\n",
    "max(sales)"
   ]
  },
  {
   "cell_type": "code",
   "execution_count": 154,
   "metadata": {},
   "outputs": [
    {
     "data": {
      "text/plain": [
       "1000"
      ]
     },
     "execution_count": 154,
     "metadata": {},
     "output_type": "execute_result"
    }
   ],
   "source": [
    "min(sales)"
   ]
  },
  {
   "cell_type": "code",
   "execution_count": 160,
   "metadata": {},
   "outputs": [
    {
     "data": {
      "text/plain": [
       "'j'"
      ]
     },
     "execution_count": 160,
     "metadata": {},
     "output_type": "execute_result"
    }
   ],
   "source": [
    "mydict={\"a\":70,\"b\":85,\"c\":90,\"d\":50,\"e\":40,\"f\":80,\"g\":55,\"h\":95,\"i\":100,\"j\":43}\n",
    "m1=max(mydict)\n",
    "m1\n"
   ]
  },
  {
   "cell_type": "code",
   "execution_count": 164,
   "metadata": {},
   "outputs": [
    {
     "data": {
      "text/plain": [
       "'a'"
      ]
     },
     "execution_count": 164,
     "metadata": {},
     "output_type": "execute_result"
    }
   ],
   "source": [
    "min(mydict)"
   ]
  },
  {
   "cell_type": "code",
   "execution_count": 167,
   "metadata": {},
   "outputs": [
    {
     "name": "stdout",
     "output_type": "stream",
     "text": [
      "20\n"
     ]
    }
   ],
   "source": [
    "a=10\n",
    "b=20\n",
    "if(a>b):\n",
    "    print(a)\n",
    "else:\n",
    "    print(b)"
   ]
  },
  {
   "cell_type": "markdown",
   "metadata": {},
   "source": [
    "# Homework day 3"
   ]
  },
  {
   "cell_type": "code",
   "execution_count": 2,
   "metadata": {},
   "outputs": [],
   "source": [
    "#Working with python PANDAS dataseries\n",
    "import numpy as np\n",
    "import pandas as pd\n",
    "emp=pd.Series(['Asra','Rahil',np.nan,'Farhan','Ayesha'], #pthon understands missing value as nan\n",
    "index=[1,2,3,4,5])"
   ]
  },
  {
   "cell_type": "code",
   "execution_count": 6,
   "metadata": {},
   "outputs": [
    {
     "data": {
      "text/plain": [
       "1      Asra\n",
       "2     Rahil\n",
       "3       NaN\n",
       "4    Farhan\n",
       "5    Ayesha\n",
       "dtype: object"
      ]
     },
     "execution_count": 6,
     "metadata": {},
     "output_type": "execute_result"
    }
   ],
   "source": [
    "emp"
   ]
  },
  {
   "cell_type": "code",
   "execution_count": 3,
   "metadata": {},
   "outputs": [
    {
     "data": {
      "text/html": [
       "<div>\n",
       "<style scoped>\n",
       "    .dataframe tbody tr th:only-of-type {\n",
       "        vertical-align: middle;\n",
       "    }\n",
       "\n",
       "    .dataframe tbody tr th {\n",
       "        vertical-align: top;\n",
       "    }\n",
       "\n",
       "    .dataframe thead th {\n",
       "        text-align: right;\n",
       "    }\n",
       "</style>\n",
       "<table border=\"1\" class=\"dataframe\">\n",
       "  <thead>\n",
       "    <tr style=\"text-align: right;\">\n",
       "      <th></th>\n",
       "      <th>Roll_no</th>\n",
       "      <th>Name</th>\n",
       "      <th>Course</th>\n",
       "    </tr>\n",
       "  </thead>\n",
       "  <tbody>\n",
       "    <tr>\n",
       "      <th>0</th>\n",
       "      <td>1</td>\n",
       "      <td>Hibah</td>\n",
       "      <td>cse</td>\n",
       "    </tr>\n",
       "    <tr>\n",
       "      <th>1</th>\n",
       "      <td>2</td>\n",
       "      <td>Asim</td>\n",
       "      <td>ece</td>\n",
       "    </tr>\n",
       "    <tr>\n",
       "      <th>2</th>\n",
       "      <td>3</td>\n",
       "      <td>Pooja</td>\n",
       "      <td>ece</td>\n",
       "    </tr>\n",
       "    <tr>\n",
       "      <th>3</th>\n",
       "      <td>4</td>\n",
       "      <td>Shravani</td>\n",
       "      <td>cse</td>\n",
       "    </tr>\n",
       "    <tr>\n",
       "      <th>4</th>\n",
       "      <td>5</td>\n",
       "      <td>Navya</td>\n",
       "      <td>cse</td>\n",
       "    </tr>\n",
       "    <tr>\n",
       "      <th>5</th>\n",
       "      <td>6</td>\n",
       "      <td>Madhuri</td>\n",
       "      <td>cse</td>\n",
       "    </tr>\n",
       "    <tr>\n",
       "      <th>6</th>\n",
       "      <td>7</td>\n",
       "      <td>Shivani</td>\n",
       "      <td>ece</td>\n",
       "    </tr>\n",
       "    <tr>\n",
       "      <th>7</th>\n",
       "      <td>8</td>\n",
       "      <td>Rekha</td>\n",
       "      <td>cse</td>\n",
       "    </tr>\n",
       "    <tr>\n",
       "      <th>8</th>\n",
       "      <td>9</td>\n",
       "      <td>Rachitra</td>\n",
       "      <td>ece</td>\n",
       "    </tr>\n",
       "    <tr>\n",
       "      <th>9</th>\n",
       "      <td>10</td>\n",
       "      <td>ayush</td>\n",
       "      <td>cse</td>\n",
       "    </tr>\n",
       "    <tr>\n",
       "      <th>10</th>\n",
       "      <td>11</td>\n",
       "      <td>haider</td>\n",
       "      <td>mech</td>\n",
       "    </tr>\n",
       "    <tr>\n",
       "      <th>11</th>\n",
       "      <td>12</td>\n",
       "      <td>Ranesh</td>\n",
       "      <td>cse</td>\n",
       "    </tr>\n",
       "    <tr>\n",
       "      <th>12</th>\n",
       "      <td>13</td>\n",
       "      <td>Sarfaraz</td>\n",
       "      <td>ece</td>\n",
       "    </tr>\n",
       "    <tr>\n",
       "      <th>13</th>\n",
       "      <td>14</td>\n",
       "      <td>Sudeep</td>\n",
       "      <td>cse</td>\n",
       "    </tr>\n",
       "    <tr>\n",
       "      <th>14</th>\n",
       "      <td>15</td>\n",
       "      <td>Rahman</td>\n",
       "      <td>cse</td>\n",
       "    </tr>\n",
       "    <tr>\n",
       "      <th>15</th>\n",
       "      <td>16</td>\n",
       "      <td>A</td>\n",
       "      <td>ece</td>\n",
       "    </tr>\n",
       "    <tr>\n",
       "      <th>16</th>\n",
       "      <td>17</td>\n",
       "      <td>B</td>\n",
       "      <td>cse</td>\n",
       "    </tr>\n",
       "    <tr>\n",
       "      <th>17</th>\n",
       "      <td>18</td>\n",
       "      <td>C</td>\n",
       "      <td>IT</td>\n",
       "    </tr>\n",
       "    <tr>\n",
       "      <th>18</th>\n",
       "      <td>19</td>\n",
       "      <td>D</td>\n",
       "      <td>cse</td>\n",
       "    </tr>\n",
       "    <tr>\n",
       "      <th>19</th>\n",
       "      <td>20</td>\n",
       "      <td>E</td>\n",
       "      <td>Cse</td>\n",
       "    </tr>\n",
       "  </tbody>\n",
       "</table>\n",
       "</div>"
      ],
      "text/plain": [
       "    Roll_no      Name Course\n",
       "0         1     Hibah    cse\n",
       "1         2      Asim    ece\n",
       "2         3     Pooja    ece\n",
       "3         4  Shravani    cse\n",
       "4         5     Navya    cse\n",
       "5         6   Madhuri    cse\n",
       "6         7   Shivani    ece\n",
       "7         8     Rekha    cse\n",
       "8         9  Rachitra    ece\n",
       "9        10     ayush    cse\n",
       "10       11    haider   mech\n",
       "11       12    Ranesh    cse\n",
       "12       13  Sarfaraz    ece\n",
       "13       14    Sudeep    cse\n",
       "14       15    Rahman    cse\n",
       "15       16         A    ece\n",
       "16       17         B    cse\n",
       "17       18         C     IT\n",
       "18       19         D    cse\n",
       "19       20         E    Cse"
      ]
     },
     "execution_count": 3,
     "metadata": {},
     "output_type": "execute_result"
    }
   ],
   "source": [
    "data={'Roll_no':[1,2,3,4,5,6,7,8,9,10,11,12,13,14,15,16,17,18,19,20],\n",
    "      'Name':['Hibah','Asim','Pooja','Shravani','Navya','Madhuri','Shivani','Rekha','Rachitra','ayush','haider','Ranesh','Sarfaraz','Sudeep','Rahman','A','B','C','D','E'],\n",
    "      'Course':['cse','ece','ece','cse','cse','cse','ece','cse','ece','cse','mech','cse','ece','cse','cse','ece','cse','IT','cse','Cse']}\n",
    "df=pd.DataFrame(data,\n",
    "columns=['Roll_no','Name','Course'])\n",
    "df"
   ]
  },
  {
   "cell_type": "code",
   "execution_count": null,
   "metadata": {},
   "outputs": [],
   "source": []
  }
 ],
 "metadata": {
  "kernelspec": {
   "display_name": "Python 3",
   "language": "python",
   "name": "python3"
  },
  "language_info": {
   "codemirror_mode": {
    "name": "ipython",
    "version": 3
   },
   "file_extension": ".py",
   "mimetype": "text/x-python",
   "name": "python",
   "nbconvert_exporter": "python",
   "pygments_lexer": "ipython3",
   "version": "3.6.4"
  }
 },
 "nbformat": 4,
 "nbformat_minor": 2
}
